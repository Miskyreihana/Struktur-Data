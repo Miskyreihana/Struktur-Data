{
 "cells": [
  {
   "cell_type": "code",
   "execution_count": 7,
   "metadata": {},
   "outputs": [
    {
     "name": "stdout",
     "output_type": "stream",
     "text": [
      "Given list is:  [68, 35, 70, 6]\n",
      "Reversed list is:  [6, 70, 35, 68]\n"
     ]
    }
   ],
   "source": [
    "class Node:\n",
    "\n",
    "    def __init__(self, data):\n",
    "        self.data = data\n",
    "        self.next = None\n",
    "\n",
    "\n",
    "class LinkedList:\n",
    "\n",
    "    def __init__(self):\n",
    "        self.head = None\n",
    "\n",
    "    def reverse(self):\n",
    "        if self.head is None or self.head.next is None:\n",
    "            return\n",
    "\n",
    "        prev = None\n",
    "        cur = self.head\n",
    "\n",
    "        while cur:\n",
    "            next_element = cur.next\n",
    "            cur.next = prev\n",
    "            prev = cur\n",
    "            cur = next_element\n",
    "\n",
    "        self.head = prev\n",
    "\n",
    "    def push(self, data):\n",
    "        new_node = Node(data)\n",
    "        new_node.next = self.head\n",
    "        self.head = new_node\n",
    "\n",
    "    def print_list(self):\n",
    "        cur = self.head\n",
    "        l1 = []\n",
    "        while cur:\n",
    "            l1.append(cur.data)\n",
    "            cur = cur.next\n",
    "        return l1\n",
    "\n",
    "\n",
    "head = LinkedList()\n",
    "head.push(6)\n",
    "head.push(70)\n",
    "head.push(35)\n",
    "head.push(68)\n",
    "print(\"Given list is: \", head.print_list())\n",
    "head.reverse()\n",
    "print(\"Reversed list is: \", head.print_list())\n"
   ]
  },
  {
   "cell_type": "code",
   "execution_count": null,
   "metadata": {},
   "outputs": [],
   "source": []
  }
 ],
 "metadata": {
  "kernelspec": {
   "display_name": "Python 3",
   "language": "python",
   "name": "python3"
  },
  "language_info": {
   "codemirror_mode": {
    "name": "ipython",
    "version": 3
   },
   "file_extension": ".py",
   "mimetype": "text/x-python",
   "name": "python",
   "nbconvert_exporter": "python",
   "pygments_lexer": "ipython3",
   "version": "3.7.1"
  }
 },
 "nbformat": 4,
 "nbformat_minor": 2
}
